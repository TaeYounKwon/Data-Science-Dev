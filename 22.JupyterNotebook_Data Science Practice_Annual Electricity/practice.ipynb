{
  "cells": [
    {
      "cell_type": "code",
      "execution_count": null,
      "metadata": {
        "colab": {
          "base_uri": "https://localhost:8080/"
        },
        "id": "nqGRVAOwXgVF",
        "outputId": "92bd1bcc-80fd-43b9-bc3c-cfa35917dd2e"
      },
      "outputs": [
        {
          "name": "stdout",
          "output_type": "stream",
          "text": [
            "'전력+사용량(용도별)_20221130160834.csv'   \u001b[0m\u001b[01;34msample_data\u001b[0m/\n"
          ]
        }
      ],
      "source": [
        "%ls"
      ]
    },
    {
      "cell_type": "code",
      "execution_count": null,
      "metadata": {
        "id": "JjIooxztcb_3"
      },
      "outputs": [],
      "source": [
        "columns = '소계\t 소계\t 소계\t 소계\t 전철\t 수도\t 사업자용\t 순수서비스\t 소계\t 농립어업\t 광업\t 제조업\t 소계\t 소계\t 소계\t 소계\t 전철\t 수도\t 사업자용\t 순수서비스\t 소계\t 농립어업\t 광업\t 제조업\t 소계\t 소계\t 소계\t 소계\t 전철\t 수도\t 사업자용\t 순수서비스\t 소계\t 농립어업\t 광업\t 제조업'.split('\\t ')"
      ]
    },
    {
      "cell_type": "code",
      "execution_count": null,
      "metadata": {
        "id": "wXdHCbqcXoom"
      },
      "outputs": [],
      "source": [
        "import pandas as pd\n",
        "use_elec_pd = pd.read_csv('electricity.csv', header = [0,1,2,3])"
      ]
    },
    {
      "cell_type": "code",
      "execution_count": null,
      "metadata": {
        "id": "IWlwadCSdbba"
      },
      "outputs": [],
      "source": []
    },
    {
      "cell_type": "code",
      "execution_count": null,
      "metadata": {
        "id": "K8iCvrlwfHNQ"
      },
      "outputs": [],
      "source": []
    },
    {
      "cell_type": "code",
      "execution_count": null,
      "metadata": {
        "colab": {
          "base_uri": "https://localhost:8080/"
        },
        "id": "mmliifefbQju",
        "outputId": "a848d844-aa16-4b44-f04e-0e57d271de0a"
      },
      "outputs": [
        {
          "data": {
            "text/plain": [
              "{'2021. 10', '2021. 11', '2021. 12'}"
            ]
          },
          "execution_count": 64,
          "metadata": {},
          "output_type": "execute_result"
        }
      ],
      "source": [
        "columns = set([c[0] for idx, c in enumerate(use_elec_pd.columns) if idx>=3])\n",
        "columns"
      ]
    },
    {
      "cell_type": "code",
      "execution_count": null,
      "metadata": {
        "id": "kATzrhx5eyj3"
      },
      "outputs": [],
      "source": [
        "total_list = [use_elec_pd[i]['합계']['소계']['소계'][0] for i in columns]"
      ]
    },
    {
      "cell_type": "code",
      "execution_count": null,
      "metadata": {
        "colab": {
          "base_uri": "https://localhost:8080/"
        },
        "id": "xlk5Z6AvfIc0",
        "outputId": "7052150f-411f-464b-8b59-4e3294bfacf6"
      },
      "outputs": [
        {
          "data": {
            "text/plain": [
              "[3578614, 3537141, 3963700]"
            ]
          },
          "execution_count": 66,
          "metadata": {},
          "output_type": "execute_result"
        }
      ],
      "source": [
        "total_list"
      ]
    },
    {
      "cell_type": "code",
      "execution_count": null,
      "metadata": {
        "id": "HtUmpthGfJPi"
      },
      "outputs": [],
      "source": [
        "from collections import defaultdict\n",
        "kind_elect = defaultdict(list)\n",
        "total = []\n",
        "index = []\n",
        "for date in columns:\n",
        "  index.append(date)\n",
        "  total.append(use_elec_pd[date]['합계']['소계']['소계'][0])\n",
        "  sec_columns = use_elec_pd[date]['합계'].columns\n",
        "  sec_columns = set([value[0] for idx,value in enumerate(sec_columns) if value!='소계'])\n",
        "  # print(sec_columns)\n",
        "  \n",
        "  for kind in sec_columns:\n",
        "    if kind != '소계':\n",
        "      kind_elect[kind].append(use_elec_pd[date]['합계'][kind]['소계'][0])"
      ]
    },
    {
      "cell_type": "code",
      "execution_count": null,
      "metadata": {
        "colab": {
          "base_uri": "https://localhost:8080/"
        },
        "id": "RsFRgJqBf0aF",
        "outputId": "6054a352-dce5-4d17-bea2-f249481b8264"
      },
      "outputs": [
        {
          "data": {
            "text/plain": [
              "(['2021. 10', '2021. 11', '2021. 12'],\n",
              " [3578614, 3537141, 3963700],\n",
              " defaultdict(list,\n",
              "             {'산업용': [110820, 115192, 128338],\n",
              "              '가정용': [1106205, 1101163, 1146475],\n",
              "              '서비스업': [2107191, 2050450, 2352648],\n",
              "              '공공용': [254397, 270336, 336239]}))"
            ]
          },
          "execution_count": 87,
          "metadata": {},
          "output_type": "execute_result"
        }
      ],
      "source": [
        "index, total, kind_elect"
      ]
    },
    {
      "cell_type": "code",
      "execution_count": null,
      "metadata": {
        "colab": {
          "base_uri": "https://localhost:8080/",
          "height": 969
        },
        "id": "_c9_si6chd0m",
        "outputId": "e8550182-c589-45bd-92e7-6327d9445e5e"
      },
      "outputs": [
        {
          "name": "stderr",
          "output_type": "stream",
          "text": [
            "/usr/local/lib/python3.7/dist-packages/matplotlib/backends/backend_agg.py:214: RuntimeWarning: Glyph 49328 missing from current font.\n",
            "  font.set_text(s, 0.0, flags=flags)\n",
            "/usr/local/lib/python3.7/dist-packages/matplotlib/backends/backend_agg.py:214: RuntimeWarning: Glyph 50629 missing from current font.\n",
            "  font.set_text(s, 0.0, flags=flags)\n",
            "/usr/local/lib/python3.7/dist-packages/matplotlib/backends/backend_agg.py:214: RuntimeWarning: Glyph 50857 missing from current font.\n",
            "  font.set_text(s, 0.0, flags=flags)\n",
            "/usr/local/lib/python3.7/dist-packages/matplotlib/backends/backend_agg.py:214: RuntimeWarning: Glyph 44032 missing from current font.\n",
            "  font.set_text(s, 0.0, flags=flags)\n",
            "/usr/local/lib/python3.7/dist-packages/matplotlib/backends/backend_agg.py:214: RuntimeWarning: Glyph 51221 missing from current font.\n",
            "  font.set_text(s, 0.0, flags=flags)\n",
            "/usr/local/lib/python3.7/dist-packages/matplotlib/backends/backend_agg.py:214: RuntimeWarning: Glyph 49436 missing from current font.\n",
            "  font.set_text(s, 0.0, flags=flags)\n",
            "/usr/local/lib/python3.7/dist-packages/matplotlib/backends/backend_agg.py:214: RuntimeWarning: Glyph 48708 missing from current font.\n",
            "  font.set_text(s, 0.0, flags=flags)\n",
            "/usr/local/lib/python3.7/dist-packages/matplotlib/backends/backend_agg.py:214: RuntimeWarning: Glyph 49828 missing from current font.\n",
            "  font.set_text(s, 0.0, flags=flags)\n",
            "/usr/local/lib/python3.7/dist-packages/matplotlib/backends/backend_agg.py:214: RuntimeWarning: Glyph 44277 missing from current font.\n",
            "  font.set_text(s, 0.0, flags=flags)\n",
            "/usr/local/lib/python3.7/dist-packages/matplotlib/backends/backend_agg.py:183: RuntimeWarning: Glyph 49328 missing from current font.\n",
            "  font.set_text(s, 0, flags=flags)\n",
            "/usr/local/lib/python3.7/dist-packages/matplotlib/backends/backend_agg.py:183: RuntimeWarning: Glyph 50629 missing from current font.\n",
            "  font.set_text(s, 0, flags=flags)\n",
            "/usr/local/lib/python3.7/dist-packages/matplotlib/backends/backend_agg.py:183: RuntimeWarning: Glyph 50857 missing from current font.\n",
            "  font.set_text(s, 0, flags=flags)\n",
            "/usr/local/lib/python3.7/dist-packages/matplotlib/backends/backend_agg.py:183: RuntimeWarning: Glyph 44032 missing from current font.\n",
            "  font.set_text(s, 0, flags=flags)\n",
            "/usr/local/lib/python3.7/dist-packages/matplotlib/backends/backend_agg.py:183: RuntimeWarning: Glyph 51221 missing from current font.\n",
            "  font.set_text(s, 0, flags=flags)\n",
            "/usr/local/lib/python3.7/dist-packages/matplotlib/backends/backend_agg.py:183: RuntimeWarning: Glyph 49436 missing from current font.\n",
            "  font.set_text(s, 0, flags=flags)\n",
            "/usr/local/lib/python3.7/dist-packages/matplotlib/backends/backend_agg.py:183: RuntimeWarning: Glyph 48708 missing from current font.\n",
            "  font.set_text(s, 0, flags=flags)\n",
            "/usr/local/lib/python3.7/dist-packages/matplotlib/backends/backend_agg.py:183: RuntimeWarning: Glyph 49828 missing from current font.\n",
            "  font.set_text(s, 0, flags=flags)\n",
            "/usr/local/lib/python3.7/dist-packages/matplotlib/backends/backend_agg.py:183: RuntimeWarning: Glyph 44277 missing from current font.\n",
            "  font.set_text(s, 0, flags=flags)\n"
          ]
        },
        {
          "data": {
            "image/png": "[encoded data removed]",
            "text/plain": [
              "<Figure size 432x288 with 1 Axes>"
            ]
          },
          "metadata": {
            "needs_background": "light"
          },
          "output_type": "display_data"
        }
      ],
      "source": [
        "import matplotlib.pyplot as plt\n",
        "plt.plot(total, label='total')\n",
        "for key, value in kind_elect.items():\n",
        "  plt.plot(value, label=key)\n",
        "plt.legend()\n",
        "plt.show()"
      ]
    },
    {
      "cell_type": "code",
      "execution_count": null,
      "metadata": {
        "id": "444FSIzTiAAD"
      },
      "outputs": [],
      "source": []
    }
  ],
  "metadata": {
    "colab": {
      "provenance": []
    },
    "kernelspec": {
      "display_name": "Python 3",
      "name": "python3"
    },
    "language_info": {
      "name": "python"
    }
  },
  "nbformat": 4,
  "nbformat_minor": 0
}
